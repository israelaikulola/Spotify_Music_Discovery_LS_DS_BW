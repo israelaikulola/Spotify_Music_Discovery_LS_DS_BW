{
 "cells": [
  {
   "cell_type": "markdown",
   "metadata": {
    "id": "ZJUKQVNTfQZG"
   },
   "source": [
    "##Set up\n"
   ]
  },
  {
   "cell_type": "code",
   "execution_count": 15,
   "metadata": {
    "id": "t0hfDKqrFfmg"
   },
   "outputs": [],
   "source": [
    "# lots of imports for now. Will strip it down later\n",
    "\n",
    "import sys\n",
    "\n",
    "import matplotlib.pyplot as plt\n",
    "import numpy as np\n",
    "import pandas as pd\n",
    "#import seaborn as sns\n",
    "from sklearn.impute import SimpleImputer\n",
    "from sklearn.metrics import accuracy_score\n",
    "from sklearn.model_selection import train_test_split\n",
    "from sklearn.pipeline import make_pipeline\n",
    "from sklearn.preprocessing import FunctionTransformer\n",
    "from sklearn.ensemble import RandomForestClassifier\n",
    "from sklearn.ensemble import RandomForestRegressor\n",
    "from sklearn.metrics import classification_report, plot_roc_curve, roc_auc_score, plot_confusion_matrix\n",
    "from sklearn.inspection import permutation_importance\n",
    "\n",
    "from xgboost import XGBRegressor, XGBClassifier\n",
    "from sklearn.metrics import mean_absolute_error\n",
    "from sklearn.preprocessing import StandardScaler\n",
    "from sklearn.linear_model import LogisticRegression\n",
    "from sklearn.metrics import r2_score\n",
    "from sklearn.linear_model import Ridge\n",
    "#from sklearn.\n",
    "\n",
    "#from google.colab import files\n",
    "#from google.colab import drive\n",
    "#drive.mount('drive', force_remount=True)"
   ]
  },
  {
   "cell_type": "code",
   "execution_count": 13,
   "metadata": {
    "id": "yDgaTBQqW6--"
   },
   "outputs": [],
   "source": [
    "# data_path references data.csv from our github repo\n",
    "data_path = 'https://raw.githubusercontent.com/StephenSpicer/Spotify_Music_Discovery_LS_DS_BW/main/data/data.csv'"
   ]
  },
  {
   "cell_type": "markdown",
   "metadata": {
    "id": "y4wm9w1ife6L"
   },
   "source": [
    "## Wrangle Data\n"
   ]
  },
  {
   "cell_type": "code",
   "execution_count": 14,
   "metadata": {
    "id": "QxQbIPf-aaDV"
   },
   "outputs": [],
   "source": [
    "# Very basic function. Need to add new features if necessary.\n",
    "\n",
    "# Data Wrangle function:\n",
    "\n",
    "\n",
    "def wrangle(filepath):\n",
    "  df = pd.read_csv(filepath, parse_dates=['release_date'])\n",
    "\n",
    "\n",
    "  #make new features\n",
    "  df['month'] = df['release_date'].dt.month\n",
    "\n",
    "\n",
    "  #set release date as the index\n",
    "  df.set_index('release_date', inplace=True)\n",
    "\n",
    "\n",
    "  #rearraging similar features to be together to improve readability\n",
    "  df = df[['id', 'artists', 'name', 'year', 'month', 'duration_ms', 'popularity',\n",
    "           'valence', 'acousticness', 'danceability',\n",
    "           'energy', 'instrumentalness', 'liveness', 'loudness',  \n",
    "           'speechiness','tempo', 'key',\n",
    "           'explicit', 'mode']]\n",
    "           \n",
    "  return df\n",
    "\n"
   ]
  },
  {
   "cell_type": "code",
   "execution_count": 17,
   "metadata": {
    "id": "v7QnYGK-uror"
   },
   "outputs": [],
   "source": [
    "# read in the data and save it to df\n",
    "df = wrangle(data_path)"
   ]
  },
  {
   "cell_type": "markdown",
   "metadata": {
    "id": "jR9boGqV6pSx"
   },
   "source": [
    "## EDA\n"
   ]
  },
  {
   "cell_type": "code",
   "execution_count": 20,
   "metadata": {
    "id": "ceRwh8DiR3C4"
   },
   "outputs": [
    {
     "data": {
      "text/html": [
       "<div>\n",
       "<style scoped>\n",
       "    .dataframe tbody tr th:only-of-type {\n",
       "        vertical-align: middle;\n",
       "    }\n",
       "\n",
       "    .dataframe tbody tr th {\n",
       "        vertical-align: top;\n",
       "    }\n",
       "\n",
       "    .dataframe thead th {\n",
       "        text-align: right;\n",
       "    }\n",
       "</style>\n",
       "<table border=\"1\" class=\"dataframe\">\n",
       "  <thead>\n",
       "    <tr style=\"text-align: right;\">\n",
       "      <th></th>\n",
       "      <th>id</th>\n",
       "      <th>artists</th>\n",
       "      <th>name</th>\n",
       "      <th>year</th>\n",
       "      <th>month</th>\n",
       "      <th>duration_ms</th>\n",
       "      <th>popularity</th>\n",
       "      <th>valence</th>\n",
       "      <th>acousticness</th>\n",
       "      <th>danceability</th>\n",
       "      <th>energy</th>\n",
       "      <th>instrumentalness</th>\n",
       "      <th>liveness</th>\n",
       "      <th>loudness</th>\n",
       "      <th>speechiness</th>\n",
       "      <th>tempo</th>\n",
       "      <th>key</th>\n",
       "      <th>explicit</th>\n",
       "      <th>mode</th>\n",
       "    </tr>\n",
       "    <tr>\n",
       "      <th>release_date</th>\n",
       "      <th></th>\n",
       "      <th></th>\n",
       "      <th></th>\n",
       "      <th></th>\n",
       "      <th></th>\n",
       "      <th></th>\n",
       "      <th></th>\n",
       "      <th></th>\n",
       "      <th></th>\n",
       "      <th></th>\n",
       "      <th></th>\n",
       "      <th></th>\n",
       "      <th></th>\n",
       "      <th></th>\n",
       "      <th></th>\n",
       "      <th></th>\n",
       "      <th></th>\n",
       "      <th></th>\n",
       "      <th></th>\n",
       "    </tr>\n",
       "  </thead>\n",
       "  <tbody>\n",
       "    <tr>\n",
       "      <th>1920-01-01</th>\n",
       "      <td>0cS0A1fUEUd1EW3FcF8AEI</td>\n",
       "      <td>['Mamie Smith']</td>\n",
       "      <td>Keep A Song In Your Soul</td>\n",
       "      <td>1920</td>\n",
       "      <td>1</td>\n",
       "      <td>168333</td>\n",
       "      <td>12</td>\n",
       "      <td>0.6340</td>\n",
       "      <td>0.991000</td>\n",
       "      <td>0.598</td>\n",
       "      <td>0.2240</td>\n",
       "      <td>0.000522</td>\n",
       "      <td>0.3790</td>\n",
       "      <td>-12.628</td>\n",
       "      <td>0.0936</td>\n",
       "      <td>149.976</td>\n",
       "      <td>5</td>\n",
       "      <td>0</td>\n",
       "      <td>0</td>\n",
       "    </tr>\n",
       "    <tr>\n",
       "      <th>1920-01-05</th>\n",
       "      <td>0hbkKFIJm7Z05H8Zl9w30f</td>\n",
       "      <td>[\"Screamin' Jay Hawkins\"]</td>\n",
       "      <td>I Put A Spell On You</td>\n",
       "      <td>1920</td>\n",
       "      <td>1</td>\n",
       "      <td>150200</td>\n",
       "      <td>7</td>\n",
       "      <td>0.9500</td>\n",
       "      <td>0.643000</td>\n",
       "      <td>0.852</td>\n",
       "      <td>0.5170</td>\n",
       "      <td>0.026400</td>\n",
       "      <td>0.0809</td>\n",
       "      <td>-7.261</td>\n",
       "      <td>0.0534</td>\n",
       "      <td>86.889</td>\n",
       "      <td>5</td>\n",
       "      <td>0</td>\n",
       "      <td>0</td>\n",
       "    </tr>\n",
       "    <tr>\n",
       "      <th>1920-01-01</th>\n",
       "      <td>11m7laMUgmOKqI3oYzuhne</td>\n",
       "      <td>['Mamie Smith']</td>\n",
       "      <td>Golfing Papa</td>\n",
       "      <td>1920</td>\n",
       "      <td>1</td>\n",
       "      <td>163827</td>\n",
       "      <td>4</td>\n",
       "      <td>0.6890</td>\n",
       "      <td>0.993000</td>\n",
       "      <td>0.647</td>\n",
       "      <td>0.1860</td>\n",
       "      <td>0.000018</td>\n",
       "      <td>0.5190</td>\n",
       "      <td>-12.098</td>\n",
       "      <td>0.1740</td>\n",
       "      <td>97.600</td>\n",
       "      <td>0</td>\n",
       "      <td>0</td>\n",
       "      <td>1</td>\n",
       "    </tr>\n",
       "    <tr>\n",
       "      <th>1920-01-01</th>\n",
       "      <td>19Lc5SfJJ5O1oaxY0fpwfh</td>\n",
       "      <td>['Oscar Velazquez']</td>\n",
       "      <td>True House Music - Xavier Santos &amp; Carlos Gomi...</td>\n",
       "      <td>1920</td>\n",
       "      <td>1</td>\n",
       "      <td>422087</td>\n",
       "      <td>17</td>\n",
       "      <td>0.0422</td>\n",
       "      <td>0.000173</td>\n",
       "      <td>0.730</td>\n",
       "      <td>0.7980</td>\n",
       "      <td>0.801000</td>\n",
       "      <td>0.1280</td>\n",
       "      <td>-7.311</td>\n",
       "      <td>0.0425</td>\n",
       "      <td>127.997</td>\n",
       "      <td>2</td>\n",
       "      <td>0</td>\n",
       "      <td>1</td>\n",
       "    </tr>\n",
       "    <tr>\n",
       "      <th>1920-10-01</th>\n",
       "      <td>2hJjbsLCytGsnAHfdsLejp</td>\n",
       "      <td>['Mixe']</td>\n",
       "      <td>Xuniverxe</td>\n",
       "      <td>1920</td>\n",
       "      <td>10</td>\n",
       "      <td>165224</td>\n",
       "      <td>2</td>\n",
       "      <td>0.2990</td>\n",
       "      <td>0.295000</td>\n",
       "      <td>0.704</td>\n",
       "      <td>0.7070</td>\n",
       "      <td>0.000246</td>\n",
       "      <td>0.4020</td>\n",
       "      <td>-6.036</td>\n",
       "      <td>0.0768</td>\n",
       "      <td>122.076</td>\n",
       "      <td>10</td>\n",
       "      <td>1</td>\n",
       "      <td>0</td>\n",
       "    </tr>\n",
       "    <tr>\n",
       "      <th>1920-01-01</th>\n",
       "      <td>3HnrHGLE9u2MjHtdobfWl9</td>\n",
       "      <td>['Mamie Smith &amp; Her Jazz Hounds']</td>\n",
       "      <td>Crazy Blues - 78rpm Version</td>\n",
       "      <td>1920</td>\n",
       "      <td>1</td>\n",
       "      <td>198627</td>\n",
       "      <td>9</td>\n",
       "      <td>0.4770</td>\n",
       "      <td>0.996000</td>\n",
       "      <td>0.424</td>\n",
       "      <td>0.2450</td>\n",
       "      <td>0.799000</td>\n",
       "      <td>0.2350</td>\n",
       "      <td>-11.470</td>\n",
       "      <td>0.0397</td>\n",
       "      <td>103.870</td>\n",
       "      <td>5</td>\n",
       "      <td>0</td>\n",
       "      <td>1</td>\n",
       "    </tr>\n",
       "    <tr>\n",
       "      <th>1920-01-01</th>\n",
       "      <td>5DlCyqLyX2AOVDTjjkDZ8x</td>\n",
       "      <td>['Mamie Smith']</td>\n",
       "      <td>Don't You Advertise Your Man</td>\n",
       "      <td>1920</td>\n",
       "      <td>1</td>\n",
       "      <td>195200</td>\n",
       "      <td>5</td>\n",
       "      <td>0.4870</td>\n",
       "      <td>0.992000</td>\n",
       "      <td>0.782</td>\n",
       "      <td>0.0573</td>\n",
       "      <td>0.000002</td>\n",
       "      <td>0.1760</td>\n",
       "      <td>-12.453</td>\n",
       "      <td>0.0592</td>\n",
       "      <td>85.652</td>\n",
       "      <td>5</td>\n",
       "      <td>0</td>\n",
       "      <td>1</td>\n",
       "    </tr>\n",
       "    <tr>\n",
       "      <th>1920-01-01</th>\n",
       "      <td>02FzJbHtqElixxCmrpSCUa</td>\n",
       "      <td>['Mamie Smith &amp; Her Jazz Hounds']</td>\n",
       "      <td>Arkansas Blues</td>\n",
       "      <td>1920</td>\n",
       "      <td>1</td>\n",
       "      <td>186173</td>\n",
       "      <td>0</td>\n",
       "      <td>0.3660</td>\n",
       "      <td>0.996000</td>\n",
       "      <td>0.474</td>\n",
       "      <td>0.2390</td>\n",
       "      <td>0.186000</td>\n",
       "      <td>0.1950</td>\n",
       "      <td>-9.712</td>\n",
       "      <td>0.0289</td>\n",
       "      <td>78.784</td>\n",
       "      <td>9</td>\n",
       "      <td>0</td>\n",
       "      <td>1</td>\n",
       "    </tr>\n",
       "    <tr>\n",
       "      <th>1920-07-08</th>\n",
       "      <td>02i59gYdjlhBmbbWhf8YuK</td>\n",
       "      <td>['Francisco Canaro']</td>\n",
       "      <td>La Chacarera - Remasterizado</td>\n",
       "      <td>1920</td>\n",
       "      <td>7</td>\n",
       "      <td>146840</td>\n",
       "      <td>0</td>\n",
       "      <td>0.6210</td>\n",
       "      <td>0.996000</td>\n",
       "      <td>0.469</td>\n",
       "      <td>0.2380</td>\n",
       "      <td>0.960000</td>\n",
       "      <td>0.1490</td>\n",
       "      <td>-18.717</td>\n",
       "      <td>0.0741</td>\n",
       "      <td>130.060</td>\n",
       "      <td>8</td>\n",
       "      <td>0</td>\n",
       "      <td>1</td>\n",
       "    </tr>\n",
       "    <tr>\n",
       "      <th>1920-01-01</th>\n",
       "      <td>06NUxS2XL3efRh0bloxkHm</td>\n",
       "      <td>['Meetya']</td>\n",
       "      <td>Broken Puppet - Original Mix</td>\n",
       "      <td>1920</td>\n",
       "      <td>1</td>\n",
       "      <td>476304</td>\n",
       "      <td>0</td>\n",
       "      <td>0.1190</td>\n",
       "      <td>0.006820</td>\n",
       "      <td>0.571</td>\n",
       "      <td>0.7530</td>\n",
       "      <td>0.873000</td>\n",
       "      <td>0.0920</td>\n",
       "      <td>-6.943</td>\n",
       "      <td>0.0446</td>\n",
       "      <td>126.993</td>\n",
       "      <td>8</td>\n",
       "      <td>0</td>\n",
       "      <td>1</td>\n",
       "    </tr>\n",
       "  </tbody>\n",
       "</table>\n",
       "</div>"
      ],
      "text/plain": [
       "                                  id                            artists  \\\n",
       "release_date                                                              \n",
       "1920-01-01    0cS0A1fUEUd1EW3FcF8AEI                    ['Mamie Smith']   \n",
       "1920-01-05    0hbkKFIJm7Z05H8Zl9w30f          [\"Screamin' Jay Hawkins\"]   \n",
       "1920-01-01    11m7laMUgmOKqI3oYzuhne                    ['Mamie Smith']   \n",
       "1920-01-01    19Lc5SfJJ5O1oaxY0fpwfh                ['Oscar Velazquez']   \n",
       "1920-10-01    2hJjbsLCytGsnAHfdsLejp                           ['Mixe']   \n",
       "1920-01-01    3HnrHGLE9u2MjHtdobfWl9  ['Mamie Smith & Her Jazz Hounds']   \n",
       "1920-01-01    5DlCyqLyX2AOVDTjjkDZ8x                    ['Mamie Smith']   \n",
       "1920-01-01    02FzJbHtqElixxCmrpSCUa  ['Mamie Smith & Her Jazz Hounds']   \n",
       "1920-07-08    02i59gYdjlhBmbbWhf8YuK               ['Francisco Canaro']   \n",
       "1920-01-01    06NUxS2XL3efRh0bloxkHm                         ['Meetya']   \n",
       "\n",
       "                                                           name  year  month  \\\n",
       "release_date                                                                   \n",
       "1920-01-01                             Keep A Song In Your Soul  1920      1   \n",
       "1920-01-05                                 I Put A Spell On You  1920      1   \n",
       "1920-01-01                                         Golfing Papa  1920      1   \n",
       "1920-01-01    True House Music - Xavier Santos & Carlos Gomi...  1920      1   \n",
       "1920-10-01                                            Xuniverxe  1920     10   \n",
       "1920-01-01                          Crazy Blues - 78rpm Version  1920      1   \n",
       "1920-01-01                         Don't You Advertise Your Man  1920      1   \n",
       "1920-01-01                                       Arkansas Blues  1920      1   \n",
       "1920-07-08                         La Chacarera - Remasterizado  1920      7   \n",
       "1920-01-01                         Broken Puppet - Original Mix  1920      1   \n",
       "\n",
       "              duration_ms  popularity  valence  acousticness  danceability  \\\n",
       "release_date                                                                 \n",
       "1920-01-01         168333          12   0.6340      0.991000         0.598   \n",
       "1920-01-05         150200           7   0.9500      0.643000         0.852   \n",
       "1920-01-01         163827           4   0.6890      0.993000         0.647   \n",
       "1920-01-01         422087          17   0.0422      0.000173         0.730   \n",
       "1920-10-01         165224           2   0.2990      0.295000         0.704   \n",
       "1920-01-01         198627           9   0.4770      0.996000         0.424   \n",
       "1920-01-01         195200           5   0.4870      0.992000         0.782   \n",
       "1920-01-01         186173           0   0.3660      0.996000         0.474   \n",
       "1920-07-08         146840           0   0.6210      0.996000         0.469   \n",
       "1920-01-01         476304           0   0.1190      0.006820         0.571   \n",
       "\n",
       "              energy  instrumentalness  liveness  loudness  speechiness  \\\n",
       "release_date                                                              \n",
       "1920-01-01    0.2240          0.000522    0.3790   -12.628       0.0936   \n",
       "1920-01-05    0.5170          0.026400    0.0809    -7.261       0.0534   \n",
       "1920-01-01    0.1860          0.000018    0.5190   -12.098       0.1740   \n",
       "1920-01-01    0.7980          0.801000    0.1280    -7.311       0.0425   \n",
       "1920-10-01    0.7070          0.000246    0.4020    -6.036       0.0768   \n",
       "1920-01-01    0.2450          0.799000    0.2350   -11.470       0.0397   \n",
       "1920-01-01    0.0573          0.000002    0.1760   -12.453       0.0592   \n",
       "1920-01-01    0.2390          0.186000    0.1950    -9.712       0.0289   \n",
       "1920-07-08    0.2380          0.960000    0.1490   -18.717       0.0741   \n",
       "1920-01-01    0.7530          0.873000    0.0920    -6.943       0.0446   \n",
       "\n",
       "                tempo  key  explicit  mode  \n",
       "release_date                                \n",
       "1920-01-01    149.976    5         0     0  \n",
       "1920-01-05     86.889    5         0     0  \n",
       "1920-01-01     97.600    0         0     1  \n",
       "1920-01-01    127.997    2         0     1  \n",
       "1920-10-01    122.076   10         1     0  \n",
       "1920-01-01    103.870    5         0     1  \n",
       "1920-01-01     85.652    5         0     1  \n",
       "1920-01-01     78.784    9         0     1  \n",
       "1920-07-08    130.060    8         0     1  \n",
       "1920-01-01    126.993    8         0     1  "
      ]
     },
     "execution_count": 20,
     "metadata": {},
     "output_type": "execute_result"
    }
   ],
   "source": [
    "df.head(10)"
   ]
  },
  {
   "cell_type": "code",
   "execution_count": 21,
   "metadata": {},
   "outputs": [
    {
     "data": {
      "text/plain": [
       "Index(['id', 'artists', 'name', 'year', 'month', 'duration_ms', 'popularity',\n",
       "       'valence', 'acousticness', 'danceability', 'energy', 'instrumentalness',\n",
       "       'liveness', 'loudness', 'speechiness', 'tempo', 'key', 'explicit',\n",
       "       'mode'],\n",
       "      dtype='object')"
      ]
     },
     "execution_count": 21,
     "metadata": {},
     "output_type": "execute_result"
    }
   ],
   "source": [
    "df.columns"
   ]
  },
  {
   "cell_type": "code",
   "execution_count": 23,
   "metadata": {},
   "outputs": [
    {
     "data": {
      "text/plain": [
       "(174389, 19)"
      ]
     },
     "execution_count": 23,
     "metadata": {},
     "output_type": "execute_result"
    }
   ],
   "source": [
    "df.shape"
   ]
  },
  {
   "cell_type": "code",
   "execution_count": 24,
   "metadata": {},
   "outputs": [
    {
     "data": {
      "text/plain": [
       "id                  172230\n",
       "artists              36195\n",
       "name                137013\n",
       "year                   102\n",
       "month                   12\n",
       "duration_ms          56306\n",
       "popularity              98\n",
       "valence               1707\n",
       "acousticness          4929\n",
       "danceability          1233\n",
       "energy                2306\n",
       "instrumentalness      5400\n",
       "liveness              1740\n",
       "loudness             25580\n",
       "speechiness           1633\n",
       "tempo                84123\n",
       "key                     12\n",
       "explicit                 2\n",
       "mode                     2\n",
       "dtype: int64"
      ]
     },
     "execution_count": 24,
     "metadata": {},
     "output_type": "execute_result"
    }
   ],
   "source": [
    "df.nunique()"
   ]
  },
  {
   "cell_type": "markdown",
   "metadata": {
    "id": "evuElE236wiJ"
   },
   "source": [
    "## Split Data\n"
   ]
  },
  {
   "cell_type": "markdown",
   "metadata": {
    "id": "qIl2CNoCwDdZ"
   },
   "source": [
    "## Establish Baseline"
   ]
  },
  {
   "cell_type": "markdown",
   "metadata": {
    "id": "rMty7cx6ym--"
   },
   "source": [
    "##Build Model"
   ]
  },
  {
   "cell_type": "markdown",
   "metadata": {
    "id": "H6giichb8pUD"
   },
   "source": [
    "##Check Metrics"
   ]
  },
  {
   "cell_type": "markdown",
   "metadata": {
    "id": "rG13cwO98sRO"
   },
   "source": [
    "##Tune Model"
   ]
  },
  {
   "cell_type": "markdown",
   "metadata": {
    "id": "Lx9zJFgEZk2v"
   },
   "source": [
    "## Communicate Results"
   ]
  }
 ],
 "metadata": {
  "colab": {
   "collapsed_sections": [],
   "name": "Copy of BW project 3.27",
   "provenance": []
  },
  "kernelspec": {
   "display_name": "Python 3",
   "language": "python",
   "name": "python3"
  },
  "language_info": {
   "codemirror_mode": {
    "name": "ipython",
    "version": 3
   },
   "file_extension": ".py",
   "mimetype": "text/x-python",
   "name": "python",
   "nbconvert_exporter": "python",
   "pygments_lexer": "ipython3",
   "version": "3.9.1"
  }
 },
 "nbformat": 4,
 "nbformat_minor": 1
}
